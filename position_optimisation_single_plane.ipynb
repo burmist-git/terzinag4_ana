{
 "cells": [
  {
   "cell_type": "code",
   "execution_count": 1,
   "metadata": {},
   "outputs": [],
   "source": [
    "import numpy as np\n",
    "import math\n",
    "import matplotlib.pyplot as plt\n",
    "%matplotlib inline"
   ]
  },
  {
   "cell_type": "code",
   "execution_count": 2,
   "metadata": {},
   "outputs": [
    {
     "name": "stdout",
     "output_type": "stream",
     "text": [
      "1.0\n",
      "n1_x =  0.9238795325112867\n",
      "n1_y =  0.0\n",
      "n1_z =  -0.3826834323650897\n"
     ]
    }
   ],
   "source": [
    "beta = math.radians(67.5)\n",
    "#beta = math.radians(45)\n",
    "#\n",
    "#h = 0.498\n",
    "#a = 0.552\n",
    "#h = h/np.cos(math.pi/2 - beta)\n",
    "h = 1\n",
    "a = 1\n",
    "#\n",
    "phi_min = 0.0\n",
    "phi_max = 180.0\n",
    "nn = 400\n",
    "#\n",
    "n1_phi = 0.0\n",
    "n1_theta = math.pi-beta\n",
    "#n1_phi = 0.0\n",
    "#n1_theta = math.radians(90)\n",
    "n1_x = np.cos(n1_phi)*np.sin(n1_theta)\n",
    "n1_y = np.sin(n1_phi)*np.sin(n1_theta)\n",
    "n1_z = np.cos(n1_theta)\n",
    "n1 = np.array([n1_x,n1_y,n1_z]).reshape((1,3))\n",
    "print(np.linalg.norm(n1))\n",
    "print('n1_x = ',n1_x)\n",
    "print('n1_y = ',n1_y)\n",
    "print('n1_z = ',n1_z)"
   ]
  },
  {
   "cell_type": "code",
   "execution_count": 3,
   "metadata": {
    "scrolled": true
   },
   "outputs": [],
   "source": [
    "def get_n(phi,/):\n",
    "    n_x = np.cos(phi)*np.sin(math.pi-beta)\n",
    "    n_y = np.sin(phi)*np.sin(math.pi-beta)\n",
    "    n_z = np.zeros(n_y.shape)+np.cos(math.pi-beta)\n",
    "    n = np.array([n_x,n_y,n_z])\n",
    "    #print(n_z)\n",
    "    #print(np.linalg.norm(n,axis=0))\n",
    "    #print(np.linalg.norm(n))\n",
    "    return n"
   ]
  },
  {
   "cell_type": "code",
   "execution_count": 4,
   "metadata": {},
   "outputs": [],
   "source": [
    "def get_the_projection_surface(phi,/):\n",
    "    n = get_n(phi)\n",
    "    s1 = a*h*np.abs(n1.dot(n)) \n",
    "    #s1 = a*h*n1.dot(n)\n",
    "    print('s1 min = ',np.min(s1))\n",
    "    print('s1 max = ',np.max(s1))\n",
    "    return s1"
   ]
  },
  {
   "cell_type": "code",
   "execution_count": 5,
   "metadata": {},
   "outputs": [
    {
     "name": "stdout",
     "output_type": "stream",
     "text": [
      "s1 min =  0.002642969067371981\n",
      "s1 max =  0.9999999999999999\n"
     ]
    }
   ],
   "source": [
    "#phi = math.radians(10)\n",
    "phi = np.linspace(start=phi_min, stop=phi_max, num=nn)\n",
    "#phi = np.linspace(start=phi_min, stop=phi_max, num=2)\n",
    "s1 = get_the_projection_surface(phi/180.0*math.pi)"
   ]
  },
  {
   "cell_type": "code",
   "execution_count": 6,
   "metadata": {},
   "outputs": [
    {
     "data": {
      "image/png": "[encoded data removed]",
      "text/plain": [
       "<Figure size 432x288 with 1 Axes>"
      ]
     },
     "metadata": {
      "needs_background": "light"
     },
     "output_type": "display_data"
    }
   ],
   "source": [
    "#phi=phi.reshape(s1.shape)\n",
    "plt.plot(phi, np.squeeze(s1),'m-')\n",
    "plt.xlabel('phi, deg')\n",
    "plt.ylabel('Effective surface, m^2')\n",
    "plt.title('Effective surface vs. rotation angle')\n",
    "plt.grid(True)\n",
    "#plt.legend(('bottom'))\n",
    "#plt.savefig(\"EffectiveSurface.pdf\")\n",
    "plt.show()"
   ]
  },
  {
   "cell_type": "code",
   "execution_count": null,
   "metadata": {},
   "outputs": [],
   "source": []
  }
 ],
 "metadata": {
  "kernelspec": {
   "display_name": "Python 3",
   "language": "python",
   "name": "python3"
  },
  "language_info": {
   "codemirror_mode": {
    "name": "ipython",
    "version": 3
   },
   "file_extension": ".py",
   "mimetype": "text/x-python",
   "name": "python",
   "nbconvert_exporter": "python",
   "pygments_lexer": "ipython3",
   "version": "3.8.5"
  }
 },
 "nbformat": 4,
 "nbformat_minor": 4
}
