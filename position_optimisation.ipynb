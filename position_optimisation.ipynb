{
 "cells": [
  {
   "cell_type": "code",
   "execution_count": 1,
   "metadata": {},
   "outputs": [],
   "source": [
    "import numpy as np\n",
    "import math\n",
    "import matplotlib.pyplot as plt\n",
    "%matplotlib inline"
   ]
  },
  {
   "cell_type": "code",
   "execution_count": 2,
   "metadata": {},
   "outputs": [
    {
     "name": "stdout",
     "output_type": "stream",
     "text": [
      "1.0\n",
      "1.0\n",
      "1.0\n",
      "1.0\n"
     ]
    }
   ],
   "source": [
    "h = 0.498\n",
    "a = 0.552\n",
    "beta = math.radians(67.5)\n",
    "alpha = math.pi/2 - beta\n",
    "h_inclined = h/np.cos(alpha)\n",
    "#\n",
    "phi_min = 0.0\n",
    "phi_max = 90.0\n",
    "nn = 200\n",
    "n1 = np.array([0,0,1]).reshape((1,3))\n",
    "n2 = np.array([1,0,0]).reshape((1,3))\n",
    "n3 = np.array([0,1,0]).reshape((1,3))\n",
    "n_inclined_window = np.array([np.cos(math.radians(0.0))*np.sin(math.pi - beta),\n",
    "                              np.sin(math.radians(0.0))*np.sin(math.pi - beta),\n",
    "                              np.cos(math.pi - beta)]).reshape((1,3))\n",
    "print(np.linalg.norm(n1))\n",
    "print(np.linalg.norm(n2))\n",
    "print(np.linalg.norm(n3))\n",
    "print(np.linalg.norm(n_inclined_window))"
   ]
  },
  {
   "cell_type": "code",
   "execution_count": 16,
   "metadata": {},
   "outputs": [
    {
     "name": "stdout",
     "output_type": "stream",
     "text": [
      "0.30960208669396294\n",
      "0.7806458864299486\n"
     ]
    }
   ],
   "source": [
    "#Effective surface of the inclined diagonal mirror geometry\n",
    "D_big = a*math.sqrt(2)\n",
    "h_big = h/np.cos(alpha)\n",
    "a_small = h*math.tan(alpha)\n",
    "D_small = D_big - 2*a_small\n",
    "s_diagonal_mirror = (D_big + D_small)/2*h_big\n",
    "print(s_diagonal_mirror)\n",
    "print(D_small + a_small*2)"
   ]
  },
  {
   "cell_type": "code",
   "execution_count": 19,
   "metadata": {},
   "outputs": [
    {
     "name": "stdout",
     "output_type": "stream",
     "text": [
      "0.4920049640679385\n"
     ]
    }
   ],
   "source": [
    "#Paramaters of the inclined diagonal mirror geometry\n",
    "mirror_RoC = 0.8\n",
    "mirror_l = math.sqrt(mirror_RoC*mirror_RoC - (D_big*D_big/4))\n",
    "delta = mirror_RoC - mirror_l\n",
    "k = D_big/2 + delta\n",
    "print(k)"
   ]
  },
  {
   "cell_type": "code",
   "execution_count": 34,
   "metadata": {
    "scrolled": true
   },
   "outputs": [],
   "source": [
    "def get_n(phi,/):\n",
    "    n_x = np.cos(phi)*np.sin(math.pi-beta)\n",
    "    n_y = np.sin(phi)*np.sin(math.pi-beta)\n",
    "    n_z = np.zeros(n_y.shape)+np.cos(math.pi-beta)\n",
    "    return np.array([n_x,n_y,n_z])"
   ]
  },
  {
   "cell_type": "code",
   "execution_count": 53,
   "metadata": {},
   "outputs": [],
   "source": [
    "def get_the_projection_surface(phi,/):\n",
    "    n = get_n(phi)\n",
    "    s1 = a*a*np.abs(n1.dot(n)) \n",
    "    s2 = a*h*np.abs(n2.dot(n))\n",
    "    s3 = a*h*np.abs(n3.dot(n))\n",
    "    #s1 = a*a*n1.dot(n)\n",
    "    #s2 = a*h*n2.dot(n)\n",
    "    #s3 = a*h*n3.dot(n)\n",
    "    stot = s1 + s2 + s3\n",
    "    #norm = np.max(stot)\n",
    "    norm = 1\n",
    "    print('np.max(stot) = ', np.max(stot))\n",
    "    return s1/norm, s2/norm, s3/norm, (s2+s3)/norm, stot/norm"
   ]
  },
  {
   "cell_type": "code",
   "execution_count": 54,
   "metadata": {},
   "outputs": [],
   "source": [
    "def get_the_projection_surface_inclined_window(phi,/):\n",
    "    n = get_n(phi)\n",
    "    s = h_inclined*a*np.abs(n_inclined_window.dot(n)) \n",
    "    #norm = np.max(s)\n",
    "    norm = 1\n",
    "    #print('np.max(stot) = ', np.max(stot))\n",
    "    return s/norm"
   ]
  },
  {
   "cell_type": "code",
   "execution_count": 55,
   "metadata": {},
   "outputs": [
    {
     "name": "stdout",
     "output_type": "stream",
     "text": [
      "np.max(stot) =  0.47577130805019074\n"
     ]
    }
   ],
   "source": [
    "#phi = math.radians(10)\n",
    "phi = np.linspace(start=phi_min, stop=phi_max, num=nn)\n",
    "#phi = np.linspace(start=phi_min, stop=phi_max, num=2)\n",
    "s1, s2, s3, s23, s = get_the_projection_surface(phi/180.0*math.pi)\n",
    "s_inc = get_the_projection_surface_inclined_window(phi/180.0*math.pi)\n",
    "\n",
    "#print(s)"
   ]
  },
  {
   "cell_type": "code",
   "execution_count": 56,
   "metadata": {},
   "outputs": [
    {
     "data": {
      "image/png": "[encoded data removed]",
      "text/plain": [
       "<Figure size 432x288 with 1 Axes>"
      ]
     },
     "metadata": {
      "needs_background": "light"
     },
     "output_type": "display_data"
    },
    {
     "name": "stdout",
     "output_type": "stream",
     "text": [
      "max bottom  =  0.11660517257537231\n",
      "left  =  0.25397078796922273\n",
      "right  =  0.25397078796922273\n",
      "left + right  =  0.35916613547481846\n",
      "total  =  0.47577130805019074\n",
      "inclined window  =  0.29754528629157795\n"
     ]
    }
   ],
   "source": [
    "#phi=phi.reshape(s1.shape)\n",
    "plt.plot(phi, np.squeeze(s1),'m-',\n",
    "         phi, np.squeeze(s2),'b-',\n",
    "         phi, np.squeeze(s3),'g-',\n",
    "         phi, np.squeeze(s23),'r-', \n",
    "         phi, np.squeeze(s),'k-',\n",
    "         phi, np.squeeze(s_inc),'go')\n",
    "plt.xlabel('phi, deg')\n",
    "plt.ylabel('Effective surface, m^2')\n",
    "plt.title('Effective surface vs. rotation angle')\n",
    "plt.grid(True)\n",
    "legend_tupl = ('bottom', 'left','right','left + right','total','inclined window')\n",
    "plt.legend(legend_tupl)\n",
    "plt.savefig(\"EffectiveSurface.pdf\")\n",
    "plt.show()\n",
    "print('max ' + legend_tupl[0],' = ',np.max(s1))\n",
    "print(legend_tupl[1],' = ',np.max(s2))\n",
    "print(legend_tupl[2],' = ',np.max(s3))\n",
    "print(legend_tupl[3],' = ',np.max(s23))\n",
    "print(legend_tupl[4],' = ',np.max(s))\n",
    "print(legend_tupl[5],' = ',np.max(s_inc))"
   ]
  },
  {
   "cell_type": "code",
   "execution_count": 57,
   "metadata": {},
   "outputs": [
    {
     "data": {
      "text/plain": [
       "0.297545286291578"
      ]
     },
     "execution_count": 57,
     "metadata": {},
     "output_type": "execute_result"
    }
   ],
   "source": [
    "h/np.cos(math.pi/2 - beta)*a"
   ]
  },
  {
   "cell_type": "code",
   "execution_count": 58,
   "metadata": {},
   "outputs": [
    {
     "name": "stdout",
     "output_type": "stream",
     "text": [
      "<class 'numpy.ndarray'>\n"
     ]
    }
   ],
   "source": [
    "print(type(phi))"
   ]
  },
  {
   "cell_type": "code",
   "execution_count": 59,
   "metadata": {},
   "outputs": [],
   "source": [
    "aa = h*np.tan(math.pi/2.0 - beta)"
   ]
  },
  {
   "cell_type": "code",
   "execution_count": 60,
   "metadata": {},
   "outputs": [],
   "source": [
    "ll = math.sqrt(aa*aa+h*h)"
   ]
  },
  {
   "cell_type": "code",
   "execution_count": 61,
   "metadata": {},
   "outputs": [
    {
     "data": {
      "text/plain": [
       "0.32533417825421773"
      ]
     },
     "execution_count": 61,
     "metadata": {},
     "output_type": "execute_result"
    }
   ],
   "source": [
    "ll/4.0/math.tan(math.pi/2 - beta)"
   ]
  },
  {
   "cell_type": "code",
   "execution_count": 62,
   "metadata": {},
   "outputs": [
    {
     "data": {
      "text/plain": [
       "0.13475782893640303"
      ]
     },
     "execution_count": 62,
     "metadata": {},
     "output_type": "execute_result"
    }
   ],
   "source": [
    "ll/4"
   ]
  },
  {
   "cell_type": "code",
   "execution_count": 63,
   "metadata": {},
   "outputs": [
    {
     "data": {
      "text/plain": [
       "0.4300249334171665"
      ]
     },
     "execution_count": 63,
     "metadata": {},
     "output_type": "execute_result"
    }
   ],
   "source": [
    "a/math.cos(math.pi/2 - beta) - 3.0*ll/4.0*math.tan(math.pi/2 - beta)"
   ]
  },
  {
   "cell_type": "code",
   "execution_count": 64,
   "metadata": {},
   "outputs": [
    {
     "data": {
      "text/plain": [
       "0.5390313157456121"
      ]
     },
     "execution_count": 64,
     "metadata": {},
     "output_type": "execute_result"
    }
   ],
   "source": [
    "ll"
   ]
  },
  {
   "cell_type": "code",
   "execution_count": 65,
   "metadata": {},
   "outputs": [
    {
     "data": {
      "text/plain": [
       "0.9016697588126159"
      ]
     },
     "execution_count": 65,
     "metadata": {},
     "output_type": "execute_result"
    }
   ],
   "source": [
    "486/539"
   ]
  },
  {
   "cell_type": "code",
   "execution_count": 66,
   "metadata": {},
   "outputs": [
    {
     "data": {
      "text/plain": [
       "0.8425055584051363"
      ]
     },
     "execution_count": 66,
     "metadata": {},
     "output_type": "execute_result"
    }
   ],
   "source": [
    "0.325/math.sqrt(0.539*0.539/4+0.552*0.552/4)"
   ]
  },
  {
   "cell_type": "code",
   "execution_count": 67,
   "metadata": {},
   "outputs": [
    {
     "data": {
      "text/plain": [
       "1.1146996618898726"
      ]
     },
     "execution_count": 67,
     "metadata": {},
     "output_type": "execute_result"
    }
   ],
   "source": [
    "0.430/math.sqrt(0.539*0.539/4+0.552*0.552/4)"
   ]
  },
  {
   "cell_type": "code",
   "execution_count": 68,
   "metadata": {},
   "outputs": [
    {
     "data": {
      "text/plain": [
       "0.7715082630795345"
      ]
     },
     "execution_count": 68,
     "metadata": {},
     "output_type": "execute_result"
    }
   ],
   "source": [
    "math.sqrt(0.539*0.539+0.552*0.552)"
   ]
  },
  {
   "cell_type": "code",
   "execution_count": 69,
   "metadata": {},
   "outputs": [
    {
     "data": {
      "text/plain": [
       "0.633419689119171"
      ]
     },
     "execution_count": 69,
     "metadata": {},
     "output_type": "execute_result"
    }
   ],
   "source": [
    "489/772"
   ]
  },
  {
   "cell_type": "code",
   "execution_count": 70,
   "metadata": {},
   "outputs": [
    {
     "data": {
      "text/plain": [
       "0.38575413153976723"
      ]
     },
     "execution_count": 70,
     "metadata": {},
     "output_type": "execute_result"
    }
   ],
   "source": [
    "math.sqrt(0.539*0.539/4+0.552*0.552/4)"
   ]
  },
  {
   "cell_type": "code",
   "execution_count": null,
   "metadata": {},
   "outputs": [],
   "source": []
  }
 ],
 "metadata": {
  "kernelspec": {
   "display_name": "Python 3",
   "language": "python",
   "name": "python3"
  },
  "language_info": {
   "codemirror_mode": {
    "name": "ipython",
    "version": 3
   },
   "file_extension": ".py",
   "mimetype": "text/x-python",
   "name": "python",
   "nbconvert_exporter": "python",
   "pygments_lexer": "ipython3",
   "version": "3.8.5"
  }
 },
 "nbformat": 4,
 "nbformat_minor": 4
}
